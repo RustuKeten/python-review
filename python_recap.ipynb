{
 "cells": [
  {
   "cell_type": "code",
   "execution_count": 1,
   "metadata": {},
   "outputs": [],
   "source": [
    "# this is a comment line"
   ]
  },
  {
   "cell_type": "code",
   "execution_count": 9,
   "metadata": {},
   "outputs": [
    {
     "name": "stdout",
     "output_type": "stream",
     "text": [
      "Clarusway is a good bootcampHenry is onboard\n"
     ]
    }
   ],
   "source": [
    "name = \"Clarusway is a good bootcamp\" \\\n",
    "     \"Henry is onboard\"\n",
    "print(name)\n"
   ]
  },
  {
   "cell_type": "code",
   "execution_count": 11,
   "metadata": {},
   "outputs": [
    {
     "name": "stdout",
     "output_type": "stream",
     "text": [
      "rustu keten\n"
     ]
    }
   ],
   "source": [
    "name = \"rustu\"\n",
    "last_name = \"keten\"\n",
    "full_name = name + \" \" + last_name\n",
    "print(full_name)"
   ]
  },
  {
   "cell_type": "code",
   "execution_count": 14,
   "metadata": {},
   "outputs": [
    {
     "name": "stdout",
     "output_type": "stream",
     "text": [
      "el o\n"
     ]
    }
   ],
   "source": [
    "a = \"Hello World!\"\n",
    "print(a[1:8:2])"
   ]
  },
  {
   "cell_type": "code",
   "execution_count": 17,
   "metadata": {},
   "outputs": [
    {
     "name": "stdout",
     "output_type": "stream",
     "text": [
      "[4, 3, 2, 1]\n"
     ]
    }
   ],
   "source": [
    "list1 = [1,2,3,4]\n",
    "list1.reverse()\n",
    "print(list1)"
   ]
  },
  {
   "cell_type": "code",
   "execution_count": 18,
   "metadata": {},
   "outputs": [
    {
     "data": {
      "text/plain": [
       "'Mustang'"
      ]
     },
     "execution_count": 18,
     "metadata": {},
     "output_type": "execute_result"
    }
   ],
   "source": [
    "thisdict = {\n",
    "  \"brand\": \"Ford\",\n",
    "  \"model\": \"Mustang\",\n",
    "  \"year\": 1964\n",
    "}\n",
    "x = thisdict[\"model\"]\n",
    "x"
   ]
  },
  {
   "cell_type": "code",
   "execution_count": 21,
   "metadata": {},
   "outputs": [
    {
     "data": {
      "text/plain": [
       "'Mustang'"
      ]
     },
     "execution_count": 21,
     "metadata": {},
     "output_type": "execute_result"
    }
   ],
   "source": [
    "x = thisdict.get(\"model\", 0)\n",
    "x"
   ]
  },
  {
   "cell_type": "code",
   "execution_count": 22,
   "metadata": {},
   "outputs": [
    {
     "name": "stdout",
     "output_type": "stream",
     "text": [
      "------------------------------\n",
      "Ad        : Henry\n",
      "Soyad     : FRSTR\n",
      "Tel       : 040504054\n",
      "Şehir     : NewYork\n",
      "------------------------------\n",
      "------------------------------\n",
      "Ad        : David\n",
      "Soyad     : MOSSES\n",
      "Tel       : 3040504054\n",
      "Şehir     : AYDIN\n",
      "------------------------------\n"
     ]
    }
   ],
   "source": [
    "def personel_bilgileri(**Clarusway):\n",
    "  print(\"-\"*30)\n",
    "  for key,value in Clarusway.items():\n",
    "    print(\"{:<10}: {}\".format(key, value))\n",
    "  \n",
    "  print(\"-\"*30)\n",
    "\n",
    "\n",
    "personel_bilgileri(Ad=\"Henry\",Soyad=\"FRSTR\",Tel=\"040504054\",Şehir=\"NewYork\")\n",
    "personel_bilgileri(Ad=\"David\",Soyad=\"MOSSES\",Tel=\"3040504054\",Şehir=\"AYDIN\")"
   ]
  },
  {
   "cell_type": "code",
   "execution_count": null,
   "metadata": {},
   "outputs": [],
   "source": []
  }
 ],
 "metadata": {
  "kernelspec": {
   "display_name": "Python 3.6.8 64-bit",
   "language": "python",
   "name": "python3"
  },
  "language_info": {
   "codemirror_mode": {
    "name": "ipython",
    "version": 3
   },
   "file_extension": ".py",
   "mimetype": "text/x-python",
   "name": "python",
   "nbconvert_exporter": "python",
   "pygments_lexer": "ipython3",
   "version": "3.6.8"
  },
  "orig_nbformat": 4,
  "vscode": {
   "interpreter": {
    "hash": "e5628892414530dcd29f10db479dca2afb4509dc9d270d9b4456e010590447d6"
   }
  }
 },
 "nbformat": 4,
 "nbformat_minor": 2
}
